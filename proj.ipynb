{
 "cells": [
  {
   "cell_type": "code",
   "execution_count": 6,
   "metadata": {},
   "outputs": [
    {
     "data": {
      "text/html": [
       "<div>\n",
       "<style scoped>\n",
       "    .dataframe tbody tr th:only-of-type {\n",
       "        vertical-align: middle;\n",
       "    }\n",
       "\n",
       "    .dataframe tbody tr th {\n",
       "        vertical-align: top;\n",
       "    }\n",
       "\n",
       "    .dataframe thead th {\n",
       "        text-align: right;\n",
       "    }\n",
       "</style>\n",
       "<table border=\"1\" class=\"dataframe\">\n",
       "  <thead>\n",
       "    <tr style=\"text-align: right;\">\n",
       "      <th></th>\n",
       "      <th>event_id</th>\n",
       "      <th>time_to_tca</th>\n",
       "      <th>mission_id</th>\n",
       "      <th>risk</th>\n",
       "      <th>max_risk_estimate</th>\n",
       "      <th>max_risk_scaling</th>\n",
       "      <th>miss_distance</th>\n",
       "      <th>relative_speed</th>\n",
       "      <th>relative_position_r</th>\n",
       "      <th>relative_position_t</th>\n",
       "      <th>...</th>\n",
       "      <th>t_sigma_rdot</th>\n",
       "      <th>c_sigma_rdot</th>\n",
       "      <th>t_sigma_tdot</th>\n",
       "      <th>c_sigma_tdot</th>\n",
       "      <th>t_sigma_ndot</th>\n",
       "      <th>c_sigma_ndot</th>\n",
       "      <th>F10</th>\n",
       "      <th>F3M</th>\n",
       "      <th>SSN</th>\n",
       "      <th>AP</th>\n",
       "    </tr>\n",
       "  </thead>\n",
       "  <tbody>\n",
       "    <tr>\n",
       "      <th>0</th>\n",
       "      <td>0</td>\n",
       "      <td>1.566798</td>\n",
       "      <td>5</td>\n",
       "      <td>-10.204955</td>\n",
       "      <td>-7.834756</td>\n",
       "      <td>8.602101</td>\n",
       "      <td>14923.0</td>\n",
       "      <td>13792.0</td>\n",
       "      <td>453.8</td>\n",
       "      <td>5976.6</td>\n",
       "      <td>...</td>\n",
       "      <td>0.147350</td>\n",
       "      <td>58.272095</td>\n",
       "      <td>0.004092</td>\n",
       "      <td>0.165044</td>\n",
       "      <td>0.002987</td>\n",
       "      <td>0.386462</td>\n",
       "      <td>89.0</td>\n",
       "      <td>83.0</td>\n",
       "      <td>42.0</td>\n",
       "      <td>11.0</td>\n",
       "    </tr>\n",
       "    <tr>\n",
       "      <th>1</th>\n",
       "      <td>0</td>\n",
       "      <td>1.207494</td>\n",
       "      <td>5</td>\n",
       "      <td>-10.355758</td>\n",
       "      <td>-7.848937</td>\n",
       "      <td>8.956374</td>\n",
       "      <td>14544.0</td>\n",
       "      <td>13792.0</td>\n",
       "      <td>474.3</td>\n",
       "      <td>5821.2</td>\n",
       "      <td>...</td>\n",
       "      <td>0.059672</td>\n",
       "      <td>57.966413</td>\n",
       "      <td>0.003753</td>\n",
       "      <td>0.164383</td>\n",
       "      <td>0.002933</td>\n",
       "      <td>0.386393</td>\n",
       "      <td>89.0</td>\n",
       "      <td>83.0</td>\n",
       "      <td>42.0</td>\n",
       "      <td>11.0</td>\n",
       "    </tr>\n",
       "    <tr>\n",
       "      <th>2</th>\n",
       "      <td>0</td>\n",
       "      <td>0.952193</td>\n",
       "      <td>5</td>\n",
       "      <td>-10.345631</td>\n",
       "      <td>-7.847406</td>\n",
       "      <td>8.932195</td>\n",
       "      <td>14475.0</td>\n",
       "      <td>13792.0</td>\n",
       "      <td>474.6</td>\n",
       "      <td>5796.2</td>\n",
       "      <td>...</td>\n",
       "      <td>0.039258</td>\n",
       "      <td>57.907599</td>\n",
       "      <td>0.003576</td>\n",
       "      <td>0.164352</td>\n",
       "      <td>0.002967</td>\n",
       "      <td>0.386381</td>\n",
       "      <td>89.0</td>\n",
       "      <td>83.0</td>\n",
       "      <td>42.0</td>\n",
       "      <td>11.0</td>\n",
       "    </tr>\n",
       "    <tr>\n",
       "      <th>3</th>\n",
       "      <td>0</td>\n",
       "      <td>0.579669</td>\n",
       "      <td>5</td>\n",
       "      <td>-10.337809</td>\n",
       "      <td>-7.845880</td>\n",
       "      <td>8.913444</td>\n",
       "      <td>14579.0</td>\n",
       "      <td>13792.0</td>\n",
       "      <td>472.7</td>\n",
       "      <td>5838.9</td>\n",
       "      <td>...</td>\n",
       "      <td>0.022066</td>\n",
       "      <td>57.993905</td>\n",
       "      <td>0.003298</td>\n",
       "      <td>0.164309</td>\n",
       "      <td>0.002918</td>\n",
       "      <td>0.386400</td>\n",
       "      <td>89.0</td>\n",
       "      <td>83.0</td>\n",
       "      <td>40.0</td>\n",
       "      <td>14.0</td>\n",
       "    </tr>\n",
       "    <tr>\n",
       "      <th>4</th>\n",
       "      <td>0</td>\n",
       "      <td>0.257806</td>\n",
       "      <td>5</td>\n",
       "      <td>-10.391260</td>\n",
       "      <td>-7.852942</td>\n",
       "      <td>9.036838</td>\n",
       "      <td>14510.0</td>\n",
       "      <td>13792.0</td>\n",
       "      <td>478.7</td>\n",
       "      <td>5811.1</td>\n",
       "      <td>...</td>\n",
       "      <td>0.015075</td>\n",
       "      <td>57.946717</td>\n",
       "      <td>0.003670</td>\n",
       "      <td>0.164172</td>\n",
       "      <td>0.003220</td>\n",
       "      <td>0.386388</td>\n",
       "      <td>89.0</td>\n",
       "      <td>83.0</td>\n",
       "      <td>40.0</td>\n",
       "      <td>14.0</td>\n",
       "    </tr>\n",
       "  </tbody>\n",
       "</table>\n",
       "<p>5 rows × 103 columns</p>\n",
       "</div>"
      ],
      "text/plain": [
       "   event_id  time_to_tca  mission_id       risk  max_risk_estimate  \\\n",
       "0         0     1.566798           5 -10.204955          -7.834756   \n",
       "1         0     1.207494           5 -10.355758          -7.848937   \n",
       "2         0     0.952193           5 -10.345631          -7.847406   \n",
       "3         0     0.579669           5 -10.337809          -7.845880   \n",
       "4         0     0.257806           5 -10.391260          -7.852942   \n",
       "\n",
       "   max_risk_scaling  miss_distance  relative_speed  relative_position_r  \\\n",
       "0          8.602101        14923.0         13792.0                453.8   \n",
       "1          8.956374        14544.0         13792.0                474.3   \n",
       "2          8.932195        14475.0         13792.0                474.6   \n",
       "3          8.913444        14579.0         13792.0                472.7   \n",
       "4          9.036838        14510.0         13792.0                478.7   \n",
       "\n",
       "   relative_position_t  ...  t_sigma_rdot  c_sigma_rdot  t_sigma_tdot  \\\n",
       "0               5976.6  ...      0.147350     58.272095      0.004092   \n",
       "1               5821.2  ...      0.059672     57.966413      0.003753   \n",
       "2               5796.2  ...      0.039258     57.907599      0.003576   \n",
       "3               5838.9  ...      0.022066     57.993905      0.003298   \n",
       "4               5811.1  ...      0.015075     57.946717      0.003670   \n",
       "\n",
       "   c_sigma_tdot  t_sigma_ndot  c_sigma_ndot   F10   F3M   SSN    AP  \n",
       "0      0.165044      0.002987      0.386462  89.0  83.0  42.0  11.0  \n",
       "1      0.164383      0.002933      0.386393  89.0  83.0  42.0  11.0  \n",
       "2      0.164352      0.002967      0.386381  89.0  83.0  42.0  11.0  \n",
       "3      0.164309      0.002918      0.386400  89.0  83.0  40.0  14.0  \n",
       "4      0.164172      0.003220      0.386388  89.0  83.0  40.0  14.0  \n",
       "\n",
       "[5 rows x 103 columns]"
      ]
     },
     "execution_count": 6,
     "metadata": {},
     "output_type": "execute_result"
    }
   ],
   "source": [
    "# Let's first load and inspect the uploaded dataset to understand its structure and format\n",
    "import pandas as pd\n",
    "\n",
    "# Load the dataset from the file path\n",
    "file_path = r'Dataset\\train_data.csv'\n",
    "train_data = pd.read_csv(file_path)\n",
    "\n",
    "# Display the first few rows of the dataset to understand its structure\n",
    "train_data.head()\n"
   ]
  },
  {
   "cell_type": "code",
   "execution_count": 7,
   "metadata": {},
   "outputs": [
    {
     "data": {
      "image/png": "[encoded data removed]",
      "text/plain": [
       "<Figure size 800x600 with 1 Axes>"
      ]
     },
     "metadata": {},
     "output_type": "display_data"
    },
    {
     "data": {
      "text/plain": [
       "0.10   -30.000000\n",
       "0.25   -30.000000\n",
       "0.50   -17.870632\n",
       "0.75    -9.173294\n",
       "0.90    -6.576148\n",
       "0.95    -5.733063\n",
       "0.99    -4.480784\n",
       "Name: risk, dtype: float64"
      ]
     },
     "execution_count": 7,
     "metadata": {},
     "output_type": "execute_result"
    }
   ],
   "source": [
    "# Let's inspect the distribution of the `risk` column to find an appropriate threshold\n",
    "import matplotlib.pyplot as plt\n",
    "\n",
    "# Plotting the distribution of the risk values\n",
    "plt.figure(figsize=(8, 6))\n",
    "train_data['risk'].hist(bins=50)\n",
    "plt.title('Distribution of Risk Values')\n",
    "plt.xlabel('Risk')\n",
    "plt.ylabel('Frequency')\n",
    "plt.grid(False)\n",
    "plt.show()\n",
    "\n",
    "# Also, let's calculate some percentiles to understand the spread\n",
    "risk_percentiles = train_data['risk'].quantile([0.1, 0.25, 0.5, 0.75, 0.9, 0.95, 0.99])\n",
    "risk_percentiles\n"
   ]
  },
  {
   "cell_type": "code",
   "execution_count": 8,
   "metadata": {},
   "outputs": [
    {
     "data": {
      "text/html": [
       "<div>\n",
       "<style scoped>\n",
       "    .dataframe tbody tr th:only-of-type {\n",
       "        vertical-align: middle;\n",
       "    }\n",
       "\n",
       "    .dataframe tbody tr th {\n",
       "        vertical-align: top;\n",
       "    }\n",
       "\n",
       "    .dataframe thead th {\n",
       "        text-align: right;\n",
       "    }\n",
       "</style>\n",
       "<table border=\"1\" class=\"dataframe\">\n",
       "  <thead>\n",
       "    <tr style=\"text-align: right;\">\n",
       "      <th></th>\n",
       "      <th>risk</th>\n",
       "      <th>collision_label</th>\n",
       "    </tr>\n",
       "  </thead>\n",
       "  <tbody>\n",
       "    <tr>\n",
       "      <th>0</th>\n",
       "      <td>-10.204955</td>\n",
       "      <td>0</td>\n",
       "    </tr>\n",
       "    <tr>\n",
       "      <th>1</th>\n",
       "      <td>-10.355758</td>\n",
       "      <td>0</td>\n",
       "    </tr>\n",
       "    <tr>\n",
       "      <th>2</th>\n",
       "      <td>-10.345631</td>\n",
       "      <td>0</td>\n",
       "    </tr>\n",
       "    <tr>\n",
       "      <th>3</th>\n",
       "      <td>-10.337809</td>\n",
       "      <td>0</td>\n",
       "    </tr>\n",
       "    <tr>\n",
       "      <th>4</th>\n",
       "      <td>-10.391260</td>\n",
       "      <td>0</td>\n",
       "    </tr>\n",
       "  </tbody>\n",
       "</table>\n",
       "</div>"
      ],
      "text/plain": [
       "        risk  collision_label\n",
       "0 -10.204955                0\n",
       "1 -10.355758                0\n",
       "2 -10.345631                0\n",
       "3 -10.337809                0\n",
       "4 -10.391260                0"
      ]
     },
     "execution_count": 8,
     "metadata": {},
     "output_type": "execute_result"
    }
   ],
   "source": [
    "# Adding a binary label for collision based on the chosen threshold for `risk` (-9.0)\n",
    "# If risk is greater than -9.0, it will be considered a potential collision (label = 1), otherwise no collision (label = 0)\n",
    "threshold = -9.0\n",
    "train_data['collision_label'] = (train_data['risk'] > threshold).astype(int)\n",
    "\n",
    "# Show the first few rows to verify\n",
    "train_data[['risk', 'collision_label']].head()\n"
   ]
  },
  {
   "cell_type": "code",
   "execution_count": 9,
   "metadata": {},
   "outputs": [
    {
     "data": {
      "text/html": [
       "<div>\n",
       "<style scoped>\n",
       "    .dataframe tbody tr th:only-of-type {\n",
       "        vertical-align: middle;\n",
       "    }\n",
       "\n",
       "    .dataframe tbody tr th {\n",
       "        vertical-align: top;\n",
       "    }\n",
       "\n",
       "    .dataframe thead th {\n",
       "        text-align: right;\n",
       "    }\n",
       "</style>\n",
       "<table border=\"1\" class=\"dataframe\">\n",
       "  <thead>\n",
       "    <tr style=\"text-align: right;\">\n",
       "      <th></th>\n",
       "      <th>relative_distance</th>\n",
       "      <th>delta_speed</th>\n",
       "      <th>tca_ratio</th>\n",
       "    </tr>\n",
       "  </thead>\n",
       "  <tbody>\n",
       "    <tr>\n",
       "      <th>5</th>\n",
       "      <td>2318.290944</td>\n",
       "      <td>-10358.0</td>\n",
       "      <td>0.933745</td>\n",
       "    </tr>\n",
       "    <tr>\n",
       "      <th>6</th>\n",
       "      <td>3476.809768</td>\n",
       "      <td>0.0</td>\n",
       "      <td>0.795222</td>\n",
       "    </tr>\n",
       "    <tr>\n",
       "      <th>7</th>\n",
       "      <td>7638.463647</td>\n",
       "      <td>0.0</td>\n",
       "      <td>0.747302</td>\n",
       "    </tr>\n",
       "    <tr>\n",
       "      <th>8</th>\n",
       "      <td>26067.128975</td>\n",
       "      <td>0.0</td>\n",
       "      <td>0.510452</td>\n",
       "    </tr>\n",
       "    <tr>\n",
       "      <th>29</th>\n",
       "      <td>12494.914752</td>\n",
       "      <td>-773.0</td>\n",
       "      <td>0.993745</td>\n",
       "    </tr>\n",
       "  </tbody>\n",
       "</table>\n",
       "</div>"
      ],
      "text/plain": [
       "    relative_distance  delta_speed  tca_ratio\n",
       "5         2318.290944     -10358.0   0.933745\n",
       "6         3476.809768          0.0   0.795222\n",
       "7         7638.463647          0.0   0.747302\n",
       "8        26067.128975          0.0   0.510452\n",
       "29       12494.914752       -773.0   0.993745"
      ]
     },
     "execution_count": 9,
     "metadata": {},
     "output_type": "execute_result"
    }
   ],
   "source": [
    "import numpy as np\n",
    "\n",
    "# Calculate relative distance between the satellite and debris (hypotenuse of relative position)\n",
    "train_data['relative_distance'] = np.sqrt(train_data['relative_position_r']**2 + train_data['relative_position_t']**2)\n",
    "\n",
    "# Feature: Change in relative speed (could be useful to monitor acceleration)\n",
    "train_data['delta_speed'] = train_data['relative_speed'].diff()\n",
    "\n",
    "# Feature: Time remaining until closest approach as a ratio (could be useful for LSTM)\n",
    "train_data['tca_ratio'] = train_data['time_to_tca'] / train_data['time_to_tca'].max()\n",
    "\n",
    "# Drop rows with NaN values generated by the diff function\n",
    "train_data = train_data.dropna()\n",
    "\n",
    "# Print the new dataset with added features\n",
    "train_data[['relative_distance', 'delta_speed', 'tca_ratio']].head()\n"
   ]
  },
  {
   "cell_type": "code",
   "execution_count": 10,
   "metadata": {},
   "outputs": [
    {
     "data": {
      "text/html": [
       "<div>\n",
       "<style scoped>\n",
       "    .dataframe tbody tr th:only-of-type {\n",
       "        vertical-align: middle;\n",
       "    }\n",
       "\n",
       "    .dataframe tbody tr th {\n",
       "        vertical-align: top;\n",
       "    }\n",
       "\n",
       "    .dataframe thead th {\n",
       "        text-align: right;\n",
       "    }\n",
       "</style>\n",
       "<table border=\"1\" class=\"dataframe\">\n",
       "  <thead>\n",
       "    <tr style=\"text-align: right;\">\n",
       "      <th></th>\n",
       "      <th>relative_distance</th>\n",
       "      <th>relative_acceleration</th>\n",
       "      <th>rolling_avg_speed</th>\n",
       "      <th>delta_risk</th>\n",
       "      <th>weighted_distance</th>\n",
       "    </tr>\n",
       "  </thead>\n",
       "  <tbody>\n",
       "    <tr>\n",
       "      <th>7</th>\n",
       "      <td>7638.463647</td>\n",
       "      <td>0.0</td>\n",
       "      <td>3434.0</td>\n",
       "      <td>1.893185</td>\n",
       "      <td>1226.766090</td>\n",
       "    </tr>\n",
       "    <tr>\n",
       "      <th>8</th>\n",
       "      <td>26067.128975</td>\n",
       "      <td>0.0</td>\n",
       "      <td>3434.0</td>\n",
       "      <td>-1.825597</td>\n",
       "      <td>5703.950629</td>\n",
       "    </tr>\n",
       "    <tr>\n",
       "      <th>29</th>\n",
       "      <td>12494.914752</td>\n",
       "      <td>10140.0</td>\n",
       "      <td>6814.0</td>\n",
       "      <td>-0.320209</td>\n",
       "      <td>1571.670062</td>\n",
       "    </tr>\n",
       "    <tr>\n",
       "      <th>30</th>\n",
       "      <td>11987.933168</td>\n",
       "      <td>0.0</td>\n",
       "      <td>10194.0</td>\n",
       "      <td>0.101960</td>\n",
       "      <td>1579.161472</td>\n",
       "    </tr>\n",
       "    <tr>\n",
       "      <th>31</th>\n",
       "      <td>12005.124796</td>\n",
       "      <td>0.0</td>\n",
       "      <td>13574.0</td>\n",
       "      <td>0.054178</td>\n",
       "      <td>1663.160257</td>\n",
       "    </tr>\n",
       "  </tbody>\n",
       "</table>\n",
       "</div>"
      ],
      "text/plain": [
       "    relative_distance  relative_acceleration  rolling_avg_speed  delta_risk  \\\n",
       "7         7638.463647                    0.0             3434.0    1.893185   \n",
       "8        26067.128975                    0.0             3434.0   -1.825597   \n",
       "29       12494.914752                10140.0             6814.0   -0.320209   \n",
       "30       11987.933168                    0.0            10194.0    0.101960   \n",
       "31       12005.124796                    0.0            13574.0    0.054178   \n",
       "\n",
       "    weighted_distance  \n",
       "7         1226.766090  \n",
       "8         5703.950629  \n",
       "29        1571.670062  \n",
       "30        1579.161472  \n",
       "31        1663.160257  "
      ]
     },
     "execution_count": 10,
     "metadata": {},
     "output_type": "execute_result"
    }
   ],
   "source": [
    "\n",
    "\n",
    "# Relative distance calculation (hypotenuse of relative position)\n",
    "train_data['relative_distance'] = np.sqrt(train_data['relative_position_r']**2 + train_data['relative_position_t']**2)\n",
    "\n",
    "# Calculate relative acceleration (rate of change of relative speed)\n",
    "train_data['relative_acceleration'] = train_data['relative_speed'].diff()\n",
    "\n",
    "# Rolling average of relative speed over last 3 time steps\n",
    "train_data['rolling_avg_speed'] = train_data['relative_speed'].rolling(window=3).mean()\n",
    "\n",
    "# Rate of change of risk\n",
    "train_data['delta_risk'] = train_data['risk'].diff()\n",
    "\n",
    "# Time-weighted distance feature\n",
    "train_data['weighted_distance'] = train_data['relative_distance'] / (train_data['time_to_tca'] + 1)\n",
    "\n",
    "# Drop rows with NaN values generated by the diff() or rolling() functions\n",
    "train_data = train_data.dropna()\n",
    "\n",
    "# Show the updated dataset with new features\n",
    "train_data[['relative_distance', 'relative_acceleration', 'rolling_avg_speed', 'delta_risk', 'weighted_distance']].head()\n"
   ]
  },
  {
   "cell_type": "code",
   "execution_count": 30,
   "metadata": {},
   "outputs": [
    {
     "data": {
      "text/plain": [
       "['scaler.pkl']"
      ]
     },
     "execution_count": 30,
     "metadata": {},
     "output_type": "execute_result"
    }
   ],
   "source": [
    "from sklearn.preprocessing import MinMaxScaler\n",
    "\n",
    "# Select the features you want to scale\n",
    "features_to_scale = ['relative_distance', 'relative_acceleration', 'rolling_avg_speed', 'delta_risk', 'weighted_distance']\n",
    "\n",
    "# Initialize the MinMaxScaler\n",
    "scaler = MinMaxScaler()\n",
    "\n",
    "# Fit the scaler on the data and transform the features\n",
    "train_data[features_to_scale] = scaler.fit_transform(train_data[features_to_scale])\n",
    "\n",
    "# Show the scaled features\n",
    "train_data[features_to_scale].head()\n",
    "\n",
    "import joblib\n",
    "\n",
    "joblib.dump(scaler, 'scaler.pkl')\n",
    "\n",
    "# Now the scaler is saved and can be loaded later in the Tkinter application.\n",
    "\n"
   ]
  },
  {
   "cell_type": "code",
   "execution_count": 12,
   "metadata": {},
   "outputs": [
    {
     "name": "stdout",
     "output_type": "stream",
     "text": [
      "WARNING:tensorflow:From c:\\Users\\Asus\\AppData\\Local\\Programs\\Python\\Python39\\lib\\site-packages\\keras\\src\\losses.py:2976: The name tf.losses.sparse_softmax_cross_entropy is deprecated. Please use tf.compat.v1.losses.sparse_softmax_cross_entropy instead.\n",
      "\n",
      "WARNING:tensorflow:From c:\\Users\\Asus\\AppData\\Local\\Programs\\Python\\Python39\\lib\\site-packages\\keras\\src\\backend.py:873: The name tf.get_default_graph is deprecated. Please use tf.compat.v1.get_default_graph instead.\n",
      "\n",
      "WARNING:tensorflow:From c:\\Users\\Asus\\AppData\\Local\\Programs\\Python\\Python39\\lib\\site-packages\\keras\\src\\optimizers\\__init__.py:309: The name tf.train.Optimizer is deprecated. Please use tf.compat.v1.train.Optimizer instead.\n",
      "\n",
      "Epoch 1/10\n",
      "WARNING:tensorflow:From c:\\Users\\Asus\\AppData\\Local\\Programs\\Python\\Python39\\lib\\site-packages\\keras\\src\\utils\\tf_utils.py:492: The name tf.ragged.RaggedTensorValue is deprecated. Please use tf.compat.v1.ragged.RaggedTensorValue instead.\n",
      "\n",
      "WARNING:tensorflow:From c:\\Users\\Asus\\AppData\\Local\\Programs\\Python\\Python39\\lib\\site-packages\\keras\\src\\engine\\base_layer_utils.py:384: The name tf.executing_eagerly_outside_functions is deprecated. Please use tf.compat.v1.executing_eagerly_outside_functions instead.\n",
      "\n",
      "2436/2436 [==============================] - 68s 14ms/step - loss: 0.4693 - accuracy: 0.7942 - val_loss: 0.4625 - val_accuracy: 0.7832\n",
      "Epoch 2/10\n",
      "2436/2436 [==============================] - 32s 13ms/step - loss: 0.4227 - accuracy: 0.8154 - val_loss: 0.4341 - val_accuracy: 0.8023\n",
      "Epoch 3/10\n",
      "2436/2436 [==============================] - 30s 12ms/step - loss: 0.4048 - accuracy: 0.8268 - val_loss: 0.4265 - val_accuracy: 0.8196\n",
      "Epoch 4/10\n",
      "2436/2436 [==============================] - 32s 13ms/step - loss: 0.3902 - accuracy: 0.8342 - val_loss: 0.4683 - val_accuracy: 0.8003\n",
      "Epoch 5/10\n",
      "2436/2436 [==============================] - 31s 13ms/step - loss: 0.3742 - accuracy: 0.8402 - val_loss: 0.3788 - val_accuracy: 0.8358\n",
      "Epoch 6/10\n",
      "2436/2436 [==============================] - 31s 13ms/step - loss: 0.3609 - accuracy: 0.8469 - val_loss: 0.3713 - val_accuracy: 0.8408\n",
      "Epoch 7/10\n",
      "2436/2436 [==============================] - 31s 13ms/step - loss: 0.3546 - accuracy: 0.8497 - val_loss: 0.3659 - val_accuracy: 0.8395\n",
      "Epoch 8/10\n",
      "2436/2436 [==============================] - 32s 13ms/step - loss: 0.3477 - accuracy: 0.8536 - val_loss: 0.3575 - val_accuracy: 0.8487\n",
      "Epoch 9/10\n",
      "2436/2436 [==============================] - 32s 13ms/step - loss: 0.3430 - accuracy: 0.8550 - val_loss: 0.3995 - val_accuracy: 0.8256\n",
      "Epoch 10/10\n",
      "2436/2436 [==============================] - 31s 13ms/step - loss: 0.3390 - accuracy: 0.8575 - val_loss: 0.3539 - val_accuracy: 0.8444\n"
     ]
    },
    {
     "data": {
      "text/plain": [
       "<keras.src.callbacks.History at 0x1e47286fc10>"
      ]
     },
     "execution_count": 12,
     "metadata": {},
     "output_type": "execute_result"
    }
   ],
   "source": [
    "import numpy as np\n",
    "from sklearn.preprocessing import MinMaxScaler\n",
    "from tensorflow.keras.models import Sequential\n",
    "from tensorflow.keras.layers import LSTM, Dense\n",
    "\n",
    "# Select the features to scale\n",
    "features_to_scale = ['relative_distance', 'relative_acceleration', 'rolling_avg_speed', 'delta_risk', 'weighted_distance']\n",
    "\n",
    "# Initialize the scaler and fit on the data\n",
    "scaler = MinMaxScaler()\n",
    "train_data[features_to_scale] = scaler.fit_transform(train_data[features_to_scale])\n",
    "\n",
    "# Create time sequences for LSTM (e.g., sequences of length 10)\n",
    "def create_sequences(data, sequence_length):\n",
    "    sequences = []\n",
    "    for i in range(len(data) - sequence_length):\n",
    "        sequence = data[i:i+sequence_length]\n",
    "        sequences.append(sequence)\n",
    "    return np.array(sequences)\n",
    "\n",
    "sequence_length = 10  # Example sequence length\n",
    "X = create_sequences(train_data[features_to_scale].values, sequence_length)\n",
    "\n",
    "# The target variable is the collision label\n",
    "y = train_data['collision_label'].values[sequence_length:]\n",
    "\n",
    "# Split the dataset into training and testing sets\n",
    "train_size = int(len(X) * 0.8)\n",
    "X_train, X_test = X[:train_size], X[train_size:]\n",
    "y_train, y_test = y[:train_size], y[train_size:]\n",
    "\n",
    "# Build the LSTM model\n",
    "model = Sequential()\n",
    "model.add(LSTM(64, input_shape=(sequence_length, len(features_to_scale))))\n",
    "model.add(Dense(1, activation='sigmoid'))  # Output layer for binary classification\n",
    "\n",
    "# Compile the model\n",
    "model.compile(optimizer='adam', loss='binary_crossentropy', metrics=['accuracy'])\n",
    "\n",
    "# Train the model\n",
    "model.fit(X_train, y_train, epochs=10, batch_size=32, validation_data=(X_test, y_test))\n"
   ]
  },
  {
   "cell_type": "code",
   "execution_count": 28,
   "metadata": {},
   "outputs": [
    {
     "name": "stderr",
     "output_type": "stream",
     "text": [
      "c:\\Users\\Asus\\AppData\\Local\\Programs\\Python\\Python39\\lib\\site-packages\\keras\\src\\engine\\training.py:3103: UserWarning: You are saving your model as an HDF5 file via `model.save()`. This file format is considered legacy. We recommend using instead the native Keras format, e.g. `model.save('my_model.keras')`.\n",
      "  saving_api.save_model(\n"
     ]
    }
   ],
   "source": [
    "# Save the trained model\n",
    "model.save('collision_prediction_model.h5')\n"
   ]
  },
  {
   "cell_type": "code",
   "execution_count": 13,
   "metadata": {},
   "outputs": [
    {
     "data": {
      "text/html": [
       "<div>\n",
       "<style scoped>\n",
       "    .dataframe tbody tr th:only-of-type {\n",
       "        vertical-align: middle;\n",
       "    }\n",
       "\n",
       "    .dataframe tbody tr th {\n",
       "        vertical-align: top;\n",
       "    }\n",
       "\n",
       "    .dataframe thead th {\n",
       "        text-align: right;\n",
       "    }\n",
       "</style>\n",
       "<table border=\"1\" class=\"dataframe\">\n",
       "  <thead>\n",
       "    <tr style=\"text-align: right;\">\n",
       "      <th></th>\n",
       "      <th>event_id</th>\n",
       "      <th>time_to_tca</th>\n",
       "      <th>mission_id</th>\n",
       "      <th>risk</th>\n",
       "      <th>max_risk_estimate</th>\n",
       "      <th>max_risk_scaling</th>\n",
       "      <th>miss_distance</th>\n",
       "      <th>relative_speed</th>\n",
       "      <th>relative_position_r</th>\n",
       "      <th>relative_position_t</th>\n",
       "      <th>...</th>\n",
       "      <th>t_sigma_rdot</th>\n",
       "      <th>c_sigma_rdot</th>\n",
       "      <th>t_sigma_tdot</th>\n",
       "      <th>c_sigma_tdot</th>\n",
       "      <th>t_sigma_ndot</th>\n",
       "      <th>c_sigma_ndot</th>\n",
       "      <th>F10</th>\n",
       "      <th>F3M</th>\n",
       "      <th>SSN</th>\n",
       "      <th>AP</th>\n",
       "    </tr>\n",
       "  </thead>\n",
       "  <tbody>\n",
       "    <tr>\n",
       "      <th>0</th>\n",
       "      <td>0</td>\n",
       "      <td>6.842095</td>\n",
       "      <td>19</td>\n",
       "      <td>-7.296967</td>\n",
       "      <td>-7.208941</td>\n",
       "      <td>1.787894</td>\n",
       "      <td>31816.0</td>\n",
       "      <td>7929.0</td>\n",
       "      <td>-365.5</td>\n",
       "      <td>26967.0</td>\n",
       "      <td>...</td>\n",
       "      <td>0.371943</td>\n",
       "      <td>29.669476</td>\n",
       "      <td>0.007763</td>\n",
       "      <td>0.223996</td>\n",
       "      <td>0.011833</td>\n",
       "      <td>1.375099</td>\n",
       "      <td>76.0</td>\n",
       "      <td>74.0</td>\n",
       "      <td>29.0</td>\n",
       "      <td>11.0</td>\n",
       "    </tr>\n",
       "    <tr>\n",
       "      <th>1</th>\n",
       "      <td>0</td>\n",
       "      <td>6.571818</td>\n",
       "      <td>19</td>\n",
       "      <td>-7.282496</td>\n",
       "      <td>-7.199833</td>\n",
       "      <td>1.759386</td>\n",
       "      <td>31095.0</td>\n",
       "      <td>7929.0</td>\n",
       "      <td>-361.8</td>\n",
       "      <td>26356.6</td>\n",
       "      <td>...</td>\n",
       "      <td>0.364986</td>\n",
       "      <td>29.460828</td>\n",
       "      <td>0.007762</td>\n",
       "      <td>0.223983</td>\n",
       "      <td>0.011833</td>\n",
       "      <td>1.375117</td>\n",
       "      <td>75.0</td>\n",
       "      <td>74.0</td>\n",
       "      <td>24.0</td>\n",
       "      <td>9.0</td>\n",
       "    </tr>\n",
       "    <tr>\n",
       "      <th>2</th>\n",
       "      <td>0</td>\n",
       "      <td>6.112986</td>\n",
       "      <td>19</td>\n",
       "      <td>-7.316053</td>\n",
       "      <td>-7.217886</td>\n",
       "      <td>1.824263</td>\n",
       "      <td>32202.0</td>\n",
       "      <td>7929.0</td>\n",
       "      <td>-370.7</td>\n",
       "      <td>27294.4</td>\n",
       "      <td>...</td>\n",
       "      <td>0.303518</td>\n",
       "      <td>29.747208</td>\n",
       "      <td>0.008190</td>\n",
       "      <td>0.223999</td>\n",
       "      <td>0.010530</td>\n",
       "      <td>1.375092</td>\n",
       "      <td>75.0</td>\n",
       "      <td>74.0</td>\n",
       "      <td>24.0</td>\n",
       "      <td>9.0</td>\n",
       "    </tr>\n",
       "    <tr>\n",
       "      <th>3</th>\n",
       "      <td>0</td>\n",
       "      <td>5.921955</td>\n",
       "      <td>19</td>\n",
       "      <td>-7.334138</td>\n",
       "      <td>-7.228707</td>\n",
       "      <td>1.865396</td>\n",
       "      <td>32878.0</td>\n",
       "      <td>7929.0</td>\n",
       "      <td>-376.3</td>\n",
       "      <td>27867.5</td>\n",
       "      <td>...</td>\n",
       "      <td>0.295359</td>\n",
       "      <td>29.926660</td>\n",
       "      <td>0.007698</td>\n",
       "      <td>0.224004</td>\n",
       "      <td>0.010449</td>\n",
       "      <td>1.375077</td>\n",
       "      <td>75.0</td>\n",
       "      <td>74.0</td>\n",
       "      <td>24.0</td>\n",
       "      <td>9.0</td>\n",
       "    </tr>\n",
       "    <tr>\n",
       "      <th>4</th>\n",
       "      <td>0</td>\n",
       "      <td>2.228761</td>\n",
       "      <td>19</td>\n",
       "      <td>-7.332267</td>\n",
       "      <td>-7.227312</td>\n",
       "      <td>1.863127</td>\n",
       "      <td>32792.0</td>\n",
       "      <td>7929.0</td>\n",
       "      <td>-375.6</td>\n",
       "      <td>27793.8</td>\n",
       "      <td>...</td>\n",
       "      <td>0.056579</td>\n",
       "      <td>29.845809</td>\n",
       "      <td>0.006125</td>\n",
       "      <td>0.224004</td>\n",
       "      <td>0.007821</td>\n",
       "      <td>1.375085</td>\n",
       "      <td>71.0</td>\n",
       "      <td>73.0</td>\n",
       "      <td>0.0</td>\n",
       "      <td>4.0</td>\n",
       "    </tr>\n",
       "  </tbody>\n",
       "</table>\n",
       "<p>5 rows × 103 columns</p>\n",
       "</div>"
      ],
      "text/plain": [
       "   event_id  time_to_tca  mission_id      risk  max_risk_estimate  \\\n",
       "0         0     6.842095          19 -7.296967          -7.208941   \n",
       "1         0     6.571818          19 -7.282496          -7.199833   \n",
       "2         0     6.112986          19 -7.316053          -7.217886   \n",
       "3         0     5.921955          19 -7.334138          -7.228707   \n",
       "4         0     2.228761          19 -7.332267          -7.227312   \n",
       "\n",
       "   max_risk_scaling  miss_distance  relative_speed  relative_position_r  \\\n",
       "0          1.787894        31816.0          7929.0               -365.5   \n",
       "1          1.759386        31095.0          7929.0               -361.8   \n",
       "2          1.824263        32202.0          7929.0               -370.7   \n",
       "3          1.865396        32878.0          7929.0               -376.3   \n",
       "4          1.863127        32792.0          7929.0               -375.6   \n",
       "\n",
       "   relative_position_t  ...  t_sigma_rdot  c_sigma_rdot  t_sigma_tdot  \\\n",
       "0              26967.0  ...      0.371943     29.669476      0.007763   \n",
       "1              26356.6  ...      0.364986     29.460828      0.007762   \n",
       "2              27294.4  ...      0.303518     29.747208      0.008190   \n",
       "3              27867.5  ...      0.295359     29.926660      0.007698   \n",
       "4              27793.8  ...      0.056579     29.845809      0.006125   \n",
       "\n",
       "   c_sigma_tdot  t_sigma_ndot  c_sigma_ndot   F10   F3M   SSN    AP  \n",
       "0      0.223996      0.011833      1.375099  76.0  74.0  29.0  11.0  \n",
       "1      0.223983      0.011833      1.375117  75.0  74.0  24.0   9.0  \n",
       "2      0.223999      0.010530      1.375092  75.0  74.0  24.0   9.0  \n",
       "3      0.224004      0.010449      1.375077  75.0  74.0  24.0   9.0  \n",
       "4      0.224004      0.007821      1.375085  71.0  73.0   0.0   4.0  \n",
       "\n",
       "[5 rows x 103 columns]"
      ]
     },
     "execution_count": 13,
     "metadata": {},
     "output_type": "execute_result"
    }
   ],
   "source": [
    "# Let's load the test dataset to check its structure and prepare it for testing\n",
    "test_file_path = r'Dataset\\test_data.csv'\n",
    "test_data = pd.read_csv(test_file_path)\n",
    "\n",
    "# Display the first few rows of the test dataset to understand its structure\n",
    "test_data.head()\n"
   ]
  },
  {
   "cell_type": "code",
   "execution_count": 19,
   "metadata": {},
   "outputs": [
    {
     "name": "stderr",
     "output_type": "stream",
     "text": [
      "C:\\Users\\Asus\\AppData\\Local\\Temp\\ipykernel_31892\\1075542243.py:10: SettingWithCopyWarning: \n",
      "A value is trying to be set on a copy of a slice from a DataFrame.\n",
      "Try using .loc[row_indexer,col_indexer] = value instead\n",
      "\n",
      "See the caveats in the documentation: https://pandas.pydata.org/pandas-docs/stable/user_guide/indexing.html#returning-a-view-versus-a-copy\n",
      "  test_data[features_to_scale] = scaler.fit_transform(test_data[features_to_scale])\n"
     ]
    },
    {
     "data": {
      "text/html": [
       "<div>\n",
       "<style scoped>\n",
       "    .dataframe tbody tr th:only-of-type {\n",
       "        vertical-align: middle;\n",
       "    }\n",
       "\n",
       "    .dataframe tbody tr th {\n",
       "        vertical-align: top;\n",
       "    }\n",
       "\n",
       "    .dataframe thead th {\n",
       "        text-align: right;\n",
       "    }\n",
       "</style>\n",
       "<table border=\"1\" class=\"dataframe\">\n",
       "  <thead>\n",
       "    <tr style=\"text-align: right;\">\n",
       "      <th></th>\n",
       "      <th>relative_distance</th>\n",
       "      <th>relative_acceleration</th>\n",
       "      <th>rolling_avg_speed</th>\n",
       "      <th>delta_risk</th>\n",
       "      <th>weighted_distance</th>\n",
       "    </tr>\n",
       "  </thead>\n",
       "  <tbody>\n",
       "    <tr>\n",
       "      <th>37</th>\n",
       "      <td>0.078538</td>\n",
       "      <td>0.623133</td>\n",
       "      <td>0.693422</td>\n",
       "      <td>0.493076</td>\n",
       "      <td>0.031544</td>\n",
       "    </tr>\n",
       "    <tr>\n",
       "      <th>38</th>\n",
       "      <td>0.085957</td>\n",
       "      <td>0.494320</td>\n",
       "      <td>0.768813</td>\n",
       "      <td>0.925497</td>\n",
       "      <td>0.036175</td>\n",
       "    </tr>\n",
       "    <tr>\n",
       "      <th>39</th>\n",
       "      <td>0.102879</td>\n",
       "      <td>0.494320</td>\n",
       "      <td>0.844205</td>\n",
       "      <td>0.488864</td>\n",
       "      <td>0.045228</td>\n",
       "    </tr>\n",
       "    <tr>\n",
       "      <th>40</th>\n",
       "      <td>0.100860</td>\n",
       "      <td>0.494320</td>\n",
       "      <td>0.844205</td>\n",
       "      <td>0.493384</td>\n",
       "      <td>0.046552</td>\n",
       "    </tr>\n",
       "    <tr>\n",
       "      <th>41</th>\n",
       "      <td>0.154827</td>\n",
       "      <td>0.494320</td>\n",
       "      <td>0.844205</td>\n",
       "      <td>0.443236</td>\n",
       "      <td>0.079350</td>\n",
       "    </tr>\n",
       "  </tbody>\n",
       "</table>\n",
       "</div>"
      ],
      "text/plain": [
       "    relative_distance  relative_acceleration  rolling_avg_speed  delta_risk  \\\n",
       "37           0.078538               0.623133           0.693422    0.493076   \n",
       "38           0.085957               0.494320           0.768813    0.925497   \n",
       "39           0.102879               0.494320           0.844205    0.488864   \n",
       "40           0.100860               0.494320           0.844205    0.493384   \n",
       "41           0.154827               0.494320           0.844205    0.443236   \n",
       "\n",
       "    weighted_distance  \n",
       "37           0.031544  \n",
       "38           0.036175  \n",
       "39           0.045228  \n",
       "40           0.046552  \n",
       "41           0.079350  "
      ]
     },
     "execution_count": 19,
     "metadata": {},
     "output_type": "execute_result"
    }
   ],
   "source": [
    "from sklearn.preprocessing import MinMaxScaler\n",
    "\n",
    "# Select the features you want to scale\n",
    "features_to_scale = ['relative_distance', 'relative_acceleration', 'rolling_avg_speed', 'delta_risk', 'weighted_distance']\n",
    "\n",
    "# Initialize the MinMaxScaler\n",
    "scaler = MinMaxScaler()\n",
    "\n",
    "# Fit the scaler on the data and transform the features\n",
    "test_data[features_to_scale] = scaler.fit_transform(test_data[features_to_scale])\n",
    "\n",
    "# Show the scaled features\n",
    "test_data[features_to_scale].head()\n"
   ]
  },
  {
   "cell_type": "code",
   "execution_count": 20,
   "metadata": {},
   "outputs": [
    {
     "name": "stdout",
     "output_type": "stream",
     "text": [
      "609/609 [==============================] - 5s 6ms/step\n"
     ]
    }
   ],
   "source": [
    "\n",
    "# Assuming your test data is already preprocessed and sequences are prepared (X_test)\n",
    "y_pred_prob = model.predict(X_test)\n",
    "\n",
    "# Convert probabilities to binary predictions using a threshold of 0.5\n",
    "y_pred = (y_pred_prob > 0.5).astype(int)\n"
   ]
  },
  {
   "cell_type": "code",
   "execution_count": 21,
   "metadata": {},
   "outputs": [
    {
     "name": "stdout",
     "output_type": "stream",
     "text": [
      "Accuracy: 84.44%\n"
     ]
    }
   ],
   "source": [
    "from sklearn.metrics import accuracy_score\n",
    "\n",
    "# Calculate accuracy by comparing predictions to actual labels\n",
    "accuracy = accuracy_score(y_test, y_pred)\n",
    "print(f\"Accuracy: {accuracy * 100:.2f}%\")\n"
   ]
  },
  {
   "cell_type": "code",
   "execution_count": 22,
   "metadata": {},
   "outputs": [
    {
     "name": "stdout",
     "output_type": "stream",
     "text": [
      "Precision: 0.73\n",
      "Recall: 0.50\n",
      "F1 Score: 0.60\n"
     ]
    }
   ],
   "source": [
    "from sklearn.metrics import precision_score, recall_score, f1_score\n",
    "\n",
    "# Precision: Percentage of true positives among all predicted positives\n",
    "precision = precision_score(y_test, y_pred)\n",
    "\n",
    "# Recall (Sensitivity): Percentage of true positives among all actual positives\n",
    "recall = recall_score(y_test, y_pred)\n",
    "\n",
    "# F1 Score: Harmonic mean of precision and recall\n",
    "f1 = f1_score(y_test, y_pred)\n",
    "\n",
    "print(f\"Precision: {precision:.2f}\")\n",
    "print(f\"Recall: {recall:.2f}\")\n",
    "print(f\"F1 Score: {f1:.2f}\")\n"
   ]
  },
  {
   "cell_type": "code",
   "execution_count": 23,
   "metadata": {},
   "outputs": [
    {
     "data": {
      "image/png": "[encoded data removed]",
      "text/plain": [
       "<Figure size 600x400 with 2 Axes>"
      ]
     },
     "metadata": {},
     "output_type": "display_data"
    }
   ],
   "source": [
    "from sklearn.metrics import confusion_matrix\n",
    "import seaborn as sns\n",
    "import matplotlib.pyplot as plt\n",
    "\n",
    "# Generate confusion matrix\n",
    "conf_matrix = confusion_matrix(y_test, y_pred)\n",
    "\n",
    "# Plot confusion matrix\n",
    "plt.figure(figsize=(6, 4))\n",
    "sns.heatmap(conf_matrix, annot=True, fmt='d', cmap='Blues', xticklabels=['No Collision', 'Collision'], yticklabels=['No Collision', 'Collision'])\n",
    "plt.xlabel('Predicted')\n",
    "plt.ylabel('Actual')\n",
    "plt.title('Confusion Matrix')\n",
    "plt.show()\n"
   ]
  },
  {
   "cell_type": "code",
   "execution_count": 25,
   "metadata": {},
   "outputs": [
    {
     "name": "stdout",
     "output_type": "stream",
     "text": [
      "ROC-AUC: 0.87\n"
     ]
    },
    {
     "data": {
      "image/png": "[encoded data removed]",
      "text/plain": [
       "<Figure size 640x480 with 1 Axes>"
      ]
     },
     "metadata": {},
     "output_type": "display_data"
    }
   ],
   "source": [
    "from sklearn.metrics import roc_auc_score, roc_curve\n",
    "\n",
    "# Calculate ROC-AUC score\n",
    "roc_auc = roc_auc_score(y_test, y_pred_prob)\n",
    "print(f\"ROC-AUC: {roc_auc:.2f}\")\n",
    "\n",
    "# Plot ROC curve\n",
    "fpr, tpr, thresholds = roc_curve(y_test, y_pred_prob)\n",
    "plt.figure()\n",
    "plt.plot(fpr, tpr, label=f'ROC Curve (area = {roc_auc:.2f})')\n",
    "plt.plot([0, 1], [0, 1], linestyle='--', color='r')\n",
    "plt.xlabel('False Positive Rate')\n",
    "plt.ylabel('True Positive Rate')\n",
    "plt.title('Receiver Operating Characteristic (ROC) Curve')\n",
    "plt.legend(loc='lower right')\n",
    "plt.show()\n"
   ]
  },
  {
   "cell_type": "code",
   "execution_count": 43,
   "metadata": {},
   "outputs": [
    {
     "name": "stdout",
     "output_type": "stream",
     "text": [
      "^C\n",
      "Note: you may need to restart the kernel to use updated packages.\n"
     ]
    },
    {
     "name": "stderr",
     "output_type": "stream",
     "text": [
      "\n",
      "[notice] A new release of pip is available: 24.1.1 -> 24.2\n",
      "[notice] To update, run: python.exe -m pip install --upgrade pip\n"
     ]
    },
    {
     "name": "stdout",
     "output_type": "stream",
     "text": [
      "Requirement already satisfied: plotly in c:\\users\\asus\\appdata\\local\\programs\\python\\python39\\lib\\site-packages (5.24.1)\n",
      "Requirement already satisfied: tenacity>=6.2.0 in c:\\users\\asus\\appdata\\local\\programs\\python\\python39\\lib\\site-packages (from plotly) (9.0.0)\n",
      "Requirement already satisfied: packaging in c:\\users\\asus\\appdata\\local\\programs\\python\\python39\\lib\\site-packages (from plotly) (23.2)\n"
     ]
    }
   ],
   "source": [
    "%pip install plotly\n"
   ]
  },
  {
   "cell_type": "code",
   "execution_count": 49,
   "metadata": {},
   "outputs": [
    {
     "name": "stdout",
     "output_type": "stream",
     "text": [
      "Features for high-risk debris (first debris): [3.290250756732633, 0.9445922787861647, 0.9445922787861647, 0.0517684064590086, 0.766913391150689]\n",
      "1/1 [==============================] - 1s 1s/step\n",
      "[[0.01899097]\n",
      " [0.05970649]\n",
      " [0.05970649]\n",
      " [0.05970649]\n",
      " [0.05970649]]\n"
     ]
    },
    {
     "data": {
      "application/vnd.plotly.v1+json": {
       "config": {
        "plotlyServerURL": "https://plot.ly"
       },
       "data": [
        {
         "marker": {
          "color": "blue",
          "size": 8
         },
         "mode": "markers",
         "name": "Satellite",
         "type": "scatter3d",
         "x": [
          100
         ],
         "y": [
          100
         ],
         "z": [
          100
         ]
        },
        {
         "marker": {
          "color": "red",
          "size": 6
         },
         "mode": "markers",
         "name": "Debris (Collision Risk)",
         "type": "scatter3d",
         "x": [
          97.27969490031492
         ],
         "y": [
          99.88187143979357
         ],
         "z": [
          101.8470884792209
         ]
        },
        {
         "marker": {
          "color": "green",
          "size": 6
         },
         "mode": "markers",
         "name": "Debris (No Risk)",
         "type": "scatter3d",
         "x": [
          376.59097766603554
         ],
         "y": [
          3287.4038206646
         ],
         "z": [
          -8528.184427352171
         ]
        },
        {
         "marker": {
          "color": "green",
          "size": 6
         },
         "mode": "markers",
         "name": "Debris (No Risk)",
         "type": "scatter3d",
         "x": [
          -9894.749472208438
         ],
         "y": [
          -9435.5103246437
         ],
         "z": [
          842.4592411688045
         ]
        },
        {
         "marker": {
          "color": "green",
          "size": 6
         },
         "mode": "markers",
         "name": "Debris (No Risk)",
         "type": "scatter3d",
         "x": [
          1195.3741926248313
         ],
         "y": [
          -3254.375037190862
         ],
         "z": [
          -5175.827118144163
         ]
        },
        {
         "marker": {
          "color": "green",
          "size": 6
         },
         "mode": "markers",
         "name": "Debris (No Risk)",
         "type": "scatter3d",
         "x": [
          -7426.146460950822
         ],
         "y": [
          -8605.870999200819
         ],
         "z": [
          6563.712894265234
         ]
        }
       ],
       "layout": {
        "scene": {
         "xaxis": {
          "title": {
           "text": "X Coordinate"
          }
         },
         "yaxis": {
          "title": {
           "text": "Y Coordinate"
          }
         },
         "zaxis": {
          "title": {
           "text": "Z Coordinate"
          }
         }
        },
        "template": {
         "data": {
          "bar": [
           {
            "error_x": {
             "color": "#2a3f5f"
            },
            "error_y": {
             "color": "#2a3f5f"
            },
            "marker": {
             "line": {
              "color": "#E5ECF6",
              "width": 0.5
             },
             "pattern": {
              "fillmode": "overlay",
              "size": 10,
              "solidity": 0.2
             }
            },
            "type": "bar"
           }
          ],
          "barpolar": [
           {
            "marker": {
             "line": {
              "color": "#E5ECF6",
              "width": 0.5
             },
             "pattern": {
              "fillmode": "overlay",
              "size": 10,
              "solidity": 0.2
             }
            },
            "type": "barpolar"
           }
          ],
          "carpet": [
           {
            "aaxis": {
             "endlinecolor": "#2a3f5f",
             "gridcolor": "white",
             "linecolor": "white",
             "minorgridcolor": "white",
             "startlinecolor": "#2a3f5f"
            },
            "baxis": {
             "endlinecolor": "#2a3f5f",
             "gridcolor": "white",
             "linecolor": "white",
             "minorgridcolor": "white",
             "startlinecolor": "#2a3f5f"
            },
            "type": "carpet"
           }
          ],
          "choropleth": [
           {
            "colorbar": {
             "outlinewidth": 0,
             "ticks": ""
            },
            "type": "choropleth"
           }
          ],
          "contour": [
           {
            "colorbar": {
             "outlinewidth": 0,
             "ticks": ""
            },
            "colorscale": [
             [
              0,
              "#0d0887"
             ],
             [
              0.1111111111111111,
              "#46039f"
             ],
             [
              0.2222222222222222,
              "#7201a8"
             ],
             [
              0.3333333333333333,
              "#9c179e"
             ],
             [
              0.4444444444444444,
              "#bd3786"
             ],
             [
              0.5555555555555556,
              "#d8576b"
             ],
             [
              0.6666666666666666,
              "#ed7953"
             ],
             [
              0.7777777777777778,
              "#fb9f3a"
             ],
             [
              0.8888888888888888,
              "#fdca26"
             ],
             [
              1,
              "#f0f921"
             ]
            ],
            "type": "contour"
           }
          ],
          "contourcarpet": [
           {
            "colorbar": {
             "outlinewidth": 0,
             "ticks": ""
            },
            "type": "contourcarpet"
           }
          ],
          "heatmap": [
           {
            "colorbar": {
             "outlinewidth": 0,
             "ticks": ""
            },
            "colorscale": [
             [
              0,
              "#0d0887"
             ],
             [
              0.1111111111111111,
              "#46039f"
             ],
             [
              0.2222222222222222,
              "#7201a8"
             ],
             [
              0.3333333333333333,
              "#9c179e"
             ],
             [
              0.4444444444444444,
              "#bd3786"
             ],
             [
              0.5555555555555556,
              "#d8576b"
             ],
             [
              0.6666666666666666,
              "#ed7953"
             ],
             [
              0.7777777777777778,
              "#fb9f3a"
             ],
             [
              0.8888888888888888,
              "#fdca26"
             ],
             [
              1,
              "#f0f921"
             ]
            ],
            "type": "heatmap"
           }
          ],
          "heatmapgl": [
           {
            "colorbar": {
             "outlinewidth": 0,
             "ticks": ""
            },
            "colorscale": [
             [
              0,
              "#0d0887"
             ],
             [
              0.1111111111111111,
              "#46039f"
             ],
             [
              0.2222222222222222,
              "#7201a8"
             ],
             [
              0.3333333333333333,
              "#9c179e"
             ],
             [
              0.4444444444444444,
              "#bd3786"
             ],
             [
              0.5555555555555556,
              "#d8576b"
             ],
             [
              0.6666666666666666,
              "#ed7953"
             ],
             [
              0.7777777777777778,
              "#fb9f3a"
             ],
             [
              0.8888888888888888,
              "#fdca26"
             ],
             [
              1,
              "#f0f921"
             ]
            ],
            "type": "heatmapgl"
           }
          ],
          "histogram": [
           {
            "marker": {
             "pattern": {
              "fillmode": "overlay",
              "size": 10,
              "solidity": 0.2
             }
            },
            "type": "histogram"
           }
          ],
          "histogram2d": [
           {
            "colorbar": {
             "outlinewidth": 0,
             "ticks": ""
            },
            "colorscale": [
             [
              0,
              "#0d0887"
             ],
             [
              0.1111111111111111,
              "#46039f"
             ],
             [
              0.2222222222222222,
              "#7201a8"
             ],
             [
              0.3333333333333333,
              "#9c179e"
             ],
             [
              0.4444444444444444,
              "#bd3786"
             ],
             [
              0.5555555555555556,
              "#d8576b"
             ],
             [
              0.6666666666666666,
              "#ed7953"
             ],
             [
              0.7777777777777778,
              "#fb9f3a"
             ],
             [
              0.8888888888888888,
              "#fdca26"
             ],
             [
              1,
              "#f0f921"
             ]
            ],
            "type": "histogram2d"
           }
          ],
          "histogram2dcontour": [
           {
            "colorbar": {
             "outlinewidth": 0,
             "ticks": ""
            },
            "colorscale": [
             [
              0,
              "#0d0887"
             ],
             [
              0.1111111111111111,
              "#46039f"
             ],
             [
              0.2222222222222222,
              "#7201a8"
             ],
             [
              0.3333333333333333,
              "#9c179e"
             ],
             [
              0.4444444444444444,
              "#bd3786"
             ],
             [
              0.5555555555555556,
              "#d8576b"
             ],
             [
              0.6666666666666666,
              "#ed7953"
             ],
             [
              0.7777777777777778,
              "#fb9f3a"
             ],
             [
              0.8888888888888888,
              "#fdca26"
             ],
             [
              1,
              "#f0f921"
             ]
            ],
            "type": "histogram2dcontour"
           }
          ],
          "mesh3d": [
           {
            "colorbar": {
             "outlinewidth": 0,
             "ticks": ""
            },
            "type": "mesh3d"
           }
          ],
          "parcoords": [
           {
            "line": {
             "colorbar": {
              "outlinewidth": 0,
              "ticks": ""
             }
            },
            "type": "parcoords"
           }
          ],
          "pie": [
           {
            "automargin": true,
            "type": "pie"
           }
          ],
          "scatter": [
           {
            "fillpattern": {
             "fillmode": "overlay",
             "size": 10,
             "solidity": 0.2
            },
            "type": "scatter"
           }
          ],
          "scatter3d": [
           {
            "line": {
             "colorbar": {
              "outlinewidth": 0,
              "ticks": ""
             }
            },
            "marker": {
             "colorbar": {
              "outlinewidth": 0,
              "ticks": ""
             }
            },
            "type": "scatter3d"
           }
          ],
          "scattercarpet": [
           {
            "marker": {
             "colorbar": {
              "outlinewidth": 0,
              "ticks": ""
             }
            },
            "type": "scattercarpet"
           }
          ],
          "scattergeo": [
           {
            "marker": {
             "colorbar": {
              "outlinewidth": 0,
              "ticks": ""
             }
            },
            "type": "scattergeo"
           }
          ],
          "scattergl": [
           {
            "marker": {
             "colorbar": {
              "outlinewidth": 0,
              "ticks": ""
             }
            },
            "type": "scattergl"
           }
          ],
          "scattermapbox": [
           {
            "marker": {
             "colorbar": {
              "outlinewidth": 0,
              "ticks": ""
             }
            },
            "type": "scattermapbox"
           }
          ],
          "scatterpolar": [
           {
            "marker": {
             "colorbar": {
              "outlinewidth": 0,
              "ticks": ""
             }
            },
            "type": "scatterpolar"
           }
          ],
          "scatterpolargl": [
           {
            "marker": {
             "colorbar": {
              "outlinewidth": 0,
              "ticks": ""
             }
            },
            "type": "scatterpolargl"
           }
          ],
          "scatterternary": [
           {
            "marker": {
             "colorbar": {
              "outlinewidth": 0,
              "ticks": ""
             }
            },
            "type": "scatterternary"
           }
          ],
          "surface": [
           {
            "colorbar": {
             "outlinewidth": 0,
             "ticks": ""
            },
            "colorscale": [
             [
              0,
              "#0d0887"
             ],
             [
              0.1111111111111111,
              "#46039f"
             ],
             [
              0.2222222222222222,
              "#7201a8"
             ],
             [
              0.3333333333333333,
              "#9c179e"
             ],
             [
              0.4444444444444444,
              "#bd3786"
             ],
             [
              0.5555555555555556,
              "#d8576b"
             ],
             [
              0.6666666666666666,
              "#ed7953"
             ],
             [
              0.7777777777777778,
              "#fb9f3a"
             ],
             [
              0.8888888888888888,
              "#fdca26"
             ],
             [
              1,
              "#f0f921"
             ]
            ],
            "type": "surface"
           }
          ],
          "table": [
           {
            "cells": {
             "fill": {
              "color": "#EBF0F8"
             },
             "line": {
              "color": "white"
             }
            },
            "header": {
             "fill": {
              "color": "#C8D4E3"
             },
             "line": {
              "color": "white"
             }
            },
            "type": "table"
           }
          ]
         },
         "layout": {
          "annotationdefaults": {
           "arrowcolor": "#2a3f5f",
           "arrowhead": 0,
           "arrowwidth": 1
          },
          "autotypenumbers": "strict",
          "coloraxis": {
           "colorbar": {
            "outlinewidth": 0,
            "ticks": ""
           }
          },
          "colorscale": {
           "diverging": [
            [
             0,
             "#8e0152"
            ],
            [
             0.1,
             "#c51b7d"
            ],
            [
             0.2,
             "#de77ae"
            ],
            [
             0.3,
             "#f1b6da"
            ],
            [
             0.4,
             "#fde0ef"
            ],
            [
             0.5,
             "#f7f7f7"
            ],
            [
             0.6,
             "#e6f5d0"
            ],
            [
             0.7,
             "#b8e186"
            ],
            [
             0.8,
             "#7fbc41"
            ],
            [
             0.9,
             "#4d9221"
            ],
            [
             1,
             "#276419"
            ]
           ],
           "sequential": [
            [
             0,
             "#0d0887"
            ],
            [
             0.1111111111111111,
             "#46039f"
            ],
            [
             0.2222222222222222,
             "#7201a8"
            ],
            [
             0.3333333333333333,
             "#9c179e"
            ],
            [
             0.4444444444444444,
             "#bd3786"
            ],
            [
             0.5555555555555556,
             "#d8576b"
            ],
            [
             0.6666666666666666,
             "#ed7953"
            ],
            [
             0.7777777777777778,
             "#fb9f3a"
            ],
            [
             0.8888888888888888,
             "#fdca26"
            ],
            [
             1,
             "#f0f921"
            ]
           ],
           "sequentialminus": [
            [
             0,
             "#0d0887"
            ],
            [
             0.1111111111111111,
             "#46039f"
            ],
            [
             0.2222222222222222,
             "#7201a8"
            ],
            [
             0.3333333333333333,
             "#9c179e"
            ],
            [
             0.4444444444444444,
             "#bd3786"
            ],
            [
             0.5555555555555556,
             "#d8576b"
            ],
            [
             0.6666666666666666,
             "#ed7953"
            ],
            [
             0.7777777777777778,
             "#fb9f3a"
            ],
            [
             0.8888888888888888,
             "#fdca26"
            ],
            [
             1,
             "#f0f921"
            ]
           ]
          },
          "colorway": [
           "#636efa",
           "#EF553B",
           "#00cc96",
           "#ab63fa",
           "#FFA15A",
           "#19d3f3",
           "#FF6692",
           "#B6E880",
           "#FF97FF",
           "#FECB52"
          ],
          "font": {
           "color": "#2a3f5f"
          },
          "geo": {
           "bgcolor": "white",
           "lakecolor": "white",
           "landcolor": "#E5ECF6",
           "showlakes": true,
           "showland": true,
           "subunitcolor": "white"
          },
          "hoverlabel": {
           "align": "left"
          },
          "hovermode": "closest",
          "mapbox": {
           "style": "light"
          },
          "paper_bgcolor": "white",
          "plot_bgcolor": "#E5ECF6",
          "polar": {
           "angularaxis": {
            "gridcolor": "white",
            "linecolor": "white",
            "ticks": ""
           },
           "bgcolor": "#E5ECF6",
           "radialaxis": {
            "gridcolor": "white",
            "linecolor": "white",
            "ticks": ""
           }
          },
          "scene": {
           "xaxis": {
            "backgroundcolor": "#E5ECF6",
            "gridcolor": "white",
            "gridwidth": 2,
            "linecolor": "white",
            "showbackground": true,
            "ticks": "",
            "zerolinecolor": "white"
           },
           "yaxis": {
            "backgroundcolor": "#E5ECF6",
            "gridcolor": "white",
            "gridwidth": 2,
            "linecolor": "white",
            "showbackground": true,
            "ticks": "",
            "zerolinecolor": "white"
           },
           "zaxis": {
            "backgroundcolor": "#E5ECF6",
            "gridcolor": "white",
            "gridwidth": 2,
            "linecolor": "white",
            "showbackground": true,
            "ticks": "",
            "zerolinecolor": "white"
           }
          },
          "shapedefaults": {
           "line": {
            "color": "#2a3f5f"
           }
          },
          "ternary": {
           "aaxis": {
            "gridcolor": "white",
            "linecolor": "white",
            "ticks": ""
           },
           "baxis": {
            "gridcolor": "white",
            "linecolor": "white",
            "ticks": ""
           },
           "bgcolor": "#E5ECF6",
           "caxis": {
            "gridcolor": "white",
            "linecolor": "white",
            "ticks": ""
           }
          },
          "title": {
           "x": 0.05
          },
          "xaxis": {
           "automargin": true,
           "gridcolor": "white",
           "linecolor": "white",
           "ticks": "",
           "title": {
            "standoff": 15
           },
           "zerolinecolor": "white",
           "zerolinewidth": 2
          },
          "yaxis": {
           "automargin": true,
           "gridcolor": "white",
           "linecolor": "white",
           "ticks": "",
           "title": {
            "standoff": 15
           },
           "zerolinecolor": "white",
           "zerolinewidth": 2
          }
         }
        },
        "title": {
         "text": "Satellite and Debris Collision Visualization"
        }
       }
      }
     },
     "metadata": {},
     "output_type": "display_data"
    }
   ],
   "source": [
    "import tkinter as tk\n",
    "from tkinter import messagebox\n",
    "import numpy as np\n",
    "import plotly.graph_objects as go\n",
    "from tensorflow.keras.models import load_model\n",
    "import joblib\n",
    "import warnings\n",
    "\n",
    "# Suppress feature names warning\n",
    "warnings.filterwarnings(\"ignore\", category=UserWarning)\n",
    "\n",
    "# Load the trained LSTM model\n",
    "model = load_model('collision_prediction_model.h5')\n",
    "\n",
    "# Load the saved scaler\n",
    "scaler = joblib.load('scaler.pkl')\n",
    "\n",
    "# Initialize the main Tkinter window\n",
    "root = tk.Tk()\n",
    "\n",
    "# Set full-screen mode\n",
    "root.state('zoomed')  # Windows specific full-screen, use root.attributes(\"-fullscreen\", True) for others\n",
    "root.title(\"Satellite Collision Prediction\")\n",
    "\n",
    "# Set theme colors and font\n",
    "BACKGROUND_COLOR = \"#1F1F1F\"  # Dark background\n",
    "FOREGROUND_COLOR = \"#FFFFFF\"  # White text color\n",
    "ACCENT_COLOR = \"#2196F3\"  # Blue accent color\n",
    "FONT = (\"Helvetica\", 16)\n",
    "BUTTON_FONT = (\"Helvetica\", 14, \"bold\")\n",
    "\n",
    "# Apply background color to the entire window\n",
    "root.configure(bg=BACKGROUND_COLOR)\n",
    "\n",
    "# Function to generate random debris coordinates, ensuring one debris point is high risk\n",
    "def generate_random_debris_with_risk(satellite_coords, n=15, limit=10000):\n",
    "    debris_coords = np.random.uniform(-limit, limit, size=(n, 3))\n",
    "    \n",
    "    # Ensure at least one high-risk debris by placing it very close to the satellite\n",
    "    high_risk_debris = satellite_coords + np.random.uniform(-5, 5, size=(3))  # Place within 5 km\n",
    "    debris_coords[0] = high_risk_debris  # Set the first debris as the high-risk one\n",
    "    \n",
    "    return debris_coords\n",
    "\n",
    "# Function to calculate relative distance and velocity (dummy velocity for now)\n",
    "def calculate_relative_distance(satellite_coords, debris_coords):\n",
    "    distances = np.linalg.norm(debris_coords - satellite_coords, axis=1)\n",
    "    relative_velocity = np.random.uniform(0, 2, len(debris_coords))  # Keep velocities low for high risk\n",
    "    return distances, relative_velocity\n",
    "\n",
    "# Function to preprocess data for LSTM prediction\n",
    "def preprocess_for_prediction(satellite_coords, debris_coords, distances, velocities, sequence_length=10):\n",
    "    processed_data = []\n",
    "    for i in range(len(debris_coords)):\n",
    "        relative_distance = distances[i]\n",
    "        relative_acceleration = velocities[i]  # Placeholder for acceleration\n",
    "        rolling_avg_speed = np.mean(velocities[:i+1]) if i >= 1 else velocities[i]  # Rolling avg speed\n",
    "        delta_risk = np.random.uniform(0, 1)  # Placeholder for delta risk\n",
    "        weighted_distance = relative_distance / (relative_distance + 1)\n",
    "\n",
    "        # Create input feature row\n",
    "        row = [relative_distance, relative_acceleration, rolling_avg_speed, delta_risk, weighted_distance]\n",
    "        processed_data.append(row)\n",
    "    \n",
    "    # Debug: Print the features for the first debris (close debris)\n",
    "    print(f\"Features for high-risk debris (first debris): {processed_data[0]}\")\n",
    "\n",
    "    # If there are not enough debris points to generate sequences, return an empty array\n",
    "    if len(processed_data) < sequence_length:\n",
    "        return np.array([])  # Return empty array to avoid model errors\n",
    "\n",
    "    # Scale the features using the loaded scaler\n",
    "    processed_data = scaler.transform(np.array(processed_data))\n",
    "\n",
    "    # Generate sequences for LSTM input\n",
    "    sequences = []\n",
    "    for i in range(len(processed_data) - sequence_length):\n",
    "        sequences.append(processed_data[i:i+sequence_length])\n",
    "\n",
    "    return np.array(sequences)\n",
    "\n",
    "# Function to handle predictions and visualization\n",
    "def visualize_and_predict():\n",
    "    # Get satellite coordinates from user input\n",
    "    try:\n",
    "        sat_x = float(entry_x.get())\n",
    "        sat_y = float(entry_y.get())\n",
    "        sat_z = float(entry_z.get())\n",
    "    except ValueError:\n",
    "        messagebox.showerror(\"Input Error\", \"Please enter valid numbers for the coordinates.\")\n",
    "        return\n",
    "    \n",
    "    satellite_coords = np.array([sat_x, sat_y, sat_z])\n",
    "\n",
    "    # Generate random debris coordinates with at least one high-risk debris\n",
    "    debris_coords = generate_random_debris_with_risk(satellite_coords)\n",
    "\n",
    "    # Calculate relative distances and velocities\n",
    "    relative_distances, relative_velocities = calculate_relative_distance(satellite_coords, debris_coords)\n",
    "\n",
    "    # Preprocess data for model prediction\n",
    "    sequences = preprocess_for_prediction(satellite_coords, debris_coords, relative_distances, relative_velocities)\n",
    "\n",
    "    # Check if sequences were generated\n",
    "    if sequences.size == 0:\n",
    "        messagebox.showinfo(\"Error\", \"Not enough data to generate sequences for prediction.\")\n",
    "        return\n",
    "\n",
    "    # Make predictions with the model\n",
    "    predictions = model.predict(sequences)\n",
    "    print(predictions)\n",
    "\n",
    "    # Initialize plotly figure for 3D plotting\n",
    "    fig = go.Figure()\n",
    "\n",
    "    # Plot satellite\n",
    "    fig.add_trace(go.Scatter3d(\n",
    "        x=[satellite_coords[0]], y=[satellite_coords[1]], z=[satellite_coords[2]],\n",
    "        mode='markers',\n",
    "        marker=dict(size=8, color='blue'),\n",
    "        name='Satellite'\n",
    "    ))\n",
    "\n",
    "    # Predict collisions and plot debris\n",
    "    num_predictions = len(predictions)\n",
    "\n",
    "    for i in range(num_predictions):  # Iterate over available predictions\n",
    "        pred = predictions[i]  # Prediction for this debris\n",
    "        if pred < 0.05:  # Collision risk\n",
    "            fig.add_trace(go.Scatter3d(\n",
    "                x=[debris_coords[i, 0]], y=[debris_coords[i, 1]], z=[debris_coords[i, 2]],\n",
    "                mode='markers',\n",
    "                marker=dict(size=6, color='red'),\n",
    "                name='Debris (Collision Risk)'\n",
    "            ))\n",
    "        else:\n",
    "            fig.add_trace(go.Scatter3d(\n",
    "                x=[debris_coords[i, 0]], y=[debris_coords[i, 1]], z=[debris_coords[i, 2]],\n",
    "                mode='markers',\n",
    "                marker=dict(size=6, color='green'),\n",
    "                name='Debris (No Risk)'\n",
    "            ))\n",
    "\n",
    "    # Add layout for plotly figure\n",
    "    fig.update_layout(\n",
    "        scene=dict(\n",
    "            xaxis_title='X Coordinate',\n",
    "            yaxis_title='Y Coordinate',\n",
    "            zaxis_title='Z Coordinate',\n",
    "        ),\n",
    "        title='Satellite and Debris Collision Visualization',\n",
    "    )\n",
    "\n",
    "    # Show the interactive plot\n",
    "    fig.show()\n",
    "\n",
    "# ---------------------- GUI Design -----------------------\n",
    "\n",
    "# Header label with modern style\n",
    "header_label = tk.Label(root, text=\"Satellite Collision Prediction System\", font=(\"Helvetica\", 28, \"bold\"), bg=BACKGROUND_COLOR, fg=ACCENT_COLOR)\n",
    "header_label.pack(pady=20)\n",
    "\n",
    "# Frame for input fields\n",
    "input_frame = tk.Frame(root, bg=BACKGROUND_COLOR)\n",
    "input_frame.pack(pady=20)\n",
    "\n",
    "# X Coordinate input\n",
    "label_x = tk.Label(input_frame, text=\"Enter X Coordinate:\", font=FONT, bg=BACKGROUND_COLOR, fg=FOREGROUND_COLOR)\n",
    "label_x.grid(row=0, column=0, padx=10, pady=10)\n",
    "entry_x = tk.Entry(input_frame, font=FONT, bg=\"#333\", fg=FOREGROUND_COLOR)\n",
    "entry_x.grid(row=0, column=1, padx=10, pady=10)\n",
    "\n",
    "# Y Coordinate input\n",
    "label_y = tk.Label(input_frame, text=\"Enter Y Coordinate:\", font=FONT, bg=BACKGROUND_COLOR, fg=FOREGROUND_COLOR)\n",
    "label_y.grid(row=1, column=0, padx=10, pady=10)\n",
    "entry_y = tk.Entry(input_frame, font=FONT, bg=\"#333\", fg=FOREGROUND_COLOR)\n",
    "entry_y.grid(row=1, column=1, padx=10, pady=10)\n",
    "\n",
    "# Z Coordinate input\n",
    "label_z = tk.Label(input_frame, text=\"Enter Z Coordinate:\", font=FONT, bg=BACKGROUND_COLOR, fg=FOREGROUND_COLOR)\n",
    "label_z.grid(row=2, column=0, padx=10, pady=10)\n",
    "entry_z = tk.Entry(input_frame, font=FONT, bg=\"#333\", fg=FOREGROUND_COLOR)\n",
    "entry_z.grid(row=2, column=1, padx=10, pady=10)\n",
    "\n",
    "# Submit button with style\n",
    "btn_visualize = tk.Button(root, text=\"Generate Debris and Predict Collisions\", font=BUTTON_FONT, bg=ACCENT_COLOR, fg=FOREGROUND_COLOR, command=visualize_and_predict)\n",
    "btn_visualize.pack(pady=30)\n",
    "\n",
    "# Footer label\n",
    "footer_label = tk.Label(root, text=\"© 2024 Rohan Menon\", font=(\"Helvetica\", 12), bg=BACKGROUND_COLOR, fg=FOREGROUND_COLOR)\n",
    "footer_label.pack(pady=20)\n",
    "\n",
    "# Start the Tkinter loop\n",
    "root.mainloop()\n"
   ]
  },
  {
   "cell_type": "code",
   "execution_count": null,
   "metadata": {},
   "outputs": [],
   "source": []
  }
 ],
 "metadata": {
  "kernelspec": {
   "display_name": "Python 3",
   "language": "python",
   "name": "python3"
  },
  "language_info": {
   "codemirror_mode": {
    "name": "ipython",
    "version": 3
   },
   "file_extension": ".py",
   "mimetype": "text/x-python",
   "name": "python",
   "nbconvert_exporter": "python",
   "pygments_lexer": "ipython3",
   "version": "3.9.7"
  }
 },
 "nbformat": 4,
 "nbformat_minor": 2
}
