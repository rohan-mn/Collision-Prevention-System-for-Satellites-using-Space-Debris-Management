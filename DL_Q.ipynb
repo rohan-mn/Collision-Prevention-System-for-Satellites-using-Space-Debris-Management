{
  "cells": [
    {
      "cell_type": "code",
      "execution_count": 2,
      "metadata": {
        "colab": {
          "base_uri": "https://localhost:8080/"
        },
        "id": "koZFiA5OQVIV",
        "outputId": "01fd9875-0389-4130-eb89-ad88937cc8dc"
      },
      "outputs": [
        {
          "name": "stdout",
          "output_type": "stream",
          "text": [
            "   MEAN_MOTION  ECCENTRICITY  INCLINATION  RA_OF_ASC_NODE  ARG_OF_PERICENTER  \\\n",
            "0    -2.116175      3.226407    -2.249348       -0.789215           0.738519   \n",
            "1     0.286335     -0.353065     0.289110        1.000388          -0.067662   \n",
            "2    -2.533876     -0.239225    -2.098935       -1.420710           0.805562   \n",
            "3     0.512749     -0.336596     0.814288       -1.487680          -1.231115   \n",
            "4     0.501344     -0.335694     0.812435       -0.516484           1.715358   \n",
            "\n",
            "   MEAN_ANOMALY  EPHEMERIS_TYPE  REV_AT_EPOCH     BSTAR  MEAN_MOTION_DOT  ...  \\\n",
            "0     -1.385601             0.0     -0.329444  0.772770        -0.016982  ...   \n",
            "1      0.093912             0.0      0.603328  0.019776        -0.020344  ...   \n",
            "2     -0.407077             0.0     -0.884481  0.017731        -0.021364  ...   \n",
            "3      1.202763             0.0     -0.799907  0.027523        -0.011202  ...   \n",
            "4     -1.487299             0.0     -0.820365  0.030387        -0.009760  ...   \n",
            "\n",
            "   TLE_LINE2_2 87211  99.0056 206.6171 0067092 255.9019 227.7620 14.31923609491679  \\\n",
            "0                                              False                                 \n",
            "1                                              False                                 \n",
            "2                                              False                                 \n",
            "3                                              False                                 \n",
            "4                                              False                                 \n",
            "\n",
            "   TLE_LINE2_2 87335  89.9833 269.6808 0085842 105.9037 255.1601 13.60656058179949  \\\n",
            "0                                              False                                 \n",
            "1                                              False                                 \n",
            "2                                              False                                 \n",
            "3                                              False                                 \n",
            "4                                              False                                 \n",
            "\n",
            "   TLE_LINE2_2 87433 100.2351  76.0112 0049929 265.4265  94.1155 13.35865886231317  \\\n",
            "0                                              False                                 \n",
            "1                                              False                                 \n",
            "2                                              False                                 \n",
            "3                                              False                                 \n",
            "4                                              False                                 \n",
            "\n",
            "   TLE_LINE2_2 87656  99.1338  64.1842 0018098 200.1599 159.8883 14.55516972780770  \\\n",
            "0                                              False                                 \n",
            "1                                              False                                 \n",
            "2                                              False                                 \n",
            "3                                              False                                 \n",
            "4                                              False                                 \n",
            "\n",
            "   TLE_LINE2_2 87878  99.2348 309.6943 0041640 319.2793  40.5276 14.28882158395501  \\\n",
            "0                                              False                                 \n",
            "1                                              False                                 \n",
            "2                                              False                                 \n",
            "3                                              False                                 \n",
            "4                                              False                                 \n",
            "\n",
            "   TLE_LINE2_2 87970  99.0098 214.6827 0011899 219.1613 140.8771 15.46578069379221  \\\n",
            "0                                              False                                 \n",
            "1                                              False                                 \n",
            "2                                              False                                 \n",
            "3                                              False                                 \n",
            "4                                              False                                 \n",
            "\n",
            "   TLE_LINE2_2 89171  99.0272 141.1159 0055597  76.8926 283.8489 14.96755689329622  \\\n",
            "0                                              False                                 \n",
            "1                                              False                                 \n",
            "2                                              False                                 \n",
            "3                                              False                                 \n",
            "4                                              False                                 \n",
            "\n",
            "   TLE_LINE2_2 T0007  31.9916 262.9339 0566728 162.7824 199.2858 12.90969098 91135  \\\n",
            "0                                              False                                 \n",
            "1                                              False                                 \n",
            "2                                              False                                 \n",
            "3                                              False                                 \n",
            "4                                              False                                 \n",
            "\n",
            "   TLE_LINE2_2 T0207  98.6758 348.3068 0058220 187.0288 173.0081 14.24531901 98936  \\\n",
            "0                                              False                                 \n",
            "1                                              False                                 \n",
            "2                                              False                                 \n",
            "3                                              False                                 \n",
            "4                                              False                                 \n",
            "\n",
            "   TLE_LINE2_2 T0288  90.2762 327.5871 0029565 238.9003 120.9215 12.95157445 75534  \n",
            "0                                              False                                \n",
            "1                                              False                                \n",
            "2                                              False                                \n",
            "3                                              False                                \n",
            "4                                              False                                \n",
            "\n",
            "[5 rows x 34131 columns]\n"
          ]
        }
      ],
      "source": [
        "import pandas as pd\n",
        "import numpy as np\n",
        "from sklearn.model_selection import train_test_split\n",
        "from sklearn.preprocessing import StandardScaler\n",
        "from sklearn.ensemble import RandomForestClassifier\n",
        "from sklearn.metrics import accuracy_score, classification_report, confusion_matrix\n",
        "\n",
        "# Load the dataset\n",
        "file_path = '\space_decay.csv'\n",
        "df = pd.read_csv(file_path)\n",
        "\n",
        "# Drop columns that are not necessary for prediction\n",
        "columns_to_drop = ['CCSDS_OMM_VERS', 'COMMENT', 'CREATION_DATE', 'ORIGINATOR', 'OBJECT_NAME',\n",
        "                   'OBJECT_ID', 'CENTER_NAME', 'REF_FRAME', 'TIME_SYSTEM', 'MEAN_ELEMENT_THEORY',\n",
        "                   'EPOCH', 'CLASSIFICATION_TYPE', 'NORAD_CAT_ID', 'ELEMENT_SET_NO', 'RCS_SIZE',\n",
        "                   'COUNTRY_CODE', 'LAUNCH_DATE', 'SITE', 'DECAY_DATE', 'FILE', 'GP_ID']\n",
        "\n",
        "df.drop(columns=columns_to_drop, inplace=True)\n",
        "\n",
        "# Separate numeric and non-numeric columns\n",
        "numeric_cols = df.select_dtypes(include=[np.number]).columns\n",
        "non_numeric_cols = df.select_dtypes(exclude=[np.number]).columns\n",
        "\n",
        "# Fill missing values in numeric columns with the mean\n",
        "df[numeric_cols] = df[numeric_cols].fillna(df[numeric_cols].mean())\n",
        "\n",
        "# Fill missing values in non-numeric columns with the mode (most frequent value)\n",
        "df[non_numeric_cols] = df[non_numeric_cols].fillna(df[non_numeric_cols].mode().iloc[0])\n",
        "\n",
        "# Normalize the numerical columns\n",
        "scaler = StandardScaler()\n",
        "df[numeric_cols] = scaler.fit_transform(df[numeric_cols])\n",
        "\n",
        "# Convert categorical columns to numerical values using one-hot encoding\n",
        "df = pd.get_dummies(df, columns=non_numeric_cols, drop_first=True)\n",
        "\n",
        "# Print the cleaned and normalized dataset\n",
        "print(df.head())\n"
      ]
    },
    {
      "cell_type": "code",
      "execution_count": 3,
      "metadata": {
        "id": "NLSwO7nLQ_uR"
      },
      "outputs": [],
      "source": [
        "# Define the target variable (collision prediction)\n",
        "# In this case, we'll create a binary target where 1 indicates high collision risk, and 0 indicates low risk\n",
        "# This is a simplified approach for demonstration purposes.\n",
        "\n",
        "df['Collision_Risk'] = np.where(df['PERIAPSIS'] < 300, 1, 0)  # Assuming periapsis < 300 km is high risk\n",
        "\n",
        "# Drop the 'PERIAPSIS' column after creating the target variable\n",
        "df.drop(columns=['PERIAPSIS'], inplace=True)\n",
        "\n",
        "# Define features (X) and target (y)\n",
        "X = df.drop(columns=['Collision_Risk'])\n",
        "y = df['Collision_Risk']\n",
        "\n",
        "# Split the data into training and testing sets\n",
        "X_train, X_test, y_train, y_test = train_test_split(X, y, test_size=0.3, random_state=42)\n"
      ]
    },
    {
      "cell_type": "code",
      "execution_count": 4,
      "metadata": {
        "colab": {
          "base_uri": "https://localhost:8080/"
        },
        "id": "YDQKAXOaRNZe",
        "outputId": "e11e2052-48f5-4e3b-fd44-6a80d1816f8d"
      },
      "outputs": [
        {
          "name": "stdout",
          "output_type": "stream",
          "text": [
            "Accuracy: 1.00\n",
            "Classification Report:\n",
            "              precision    recall  f1-score   support\n",
            "\n",
            "           1       1.00      1.00      1.00      4312\n",
            "\n",
            "    accuracy                           1.00      4312\n",
            "   macro avg       1.00      1.00      1.00      4312\n",
            "weighted avg       1.00      1.00      1.00      4312\n",
            "\n",
            "Confusion Matrix:\n",
            "[[4312]]\n"
          ]
        },
        {
          "name": "stderr",
          "output_type": "stream",
          "text": [
            "c:\\Users\\Asus\\AppData\\Local\\Programs\\Python\\Python39\\lib\\site-packages\\sklearn\\metrics\\_classification.py:386: UserWarning: A single label was found in 'y_true' and 'y_pred'. For the confusion matrix to have the correct shape, use the 'labels' parameter to pass all known labels.\n",
            "  warnings.warn(\n"
          ]
        }
      ],
      "source": [
        "# Create and train the model\n",
        "model = RandomForestClassifier(n_estimators=100, random_state=42)\n",
        "model.fit(X_train, y_train)\n",
        "\n",
        "# Make predictions on the test set\n",
        "y_pred = model.predict(X_test)\n",
        "\n",
        "# Evaluate the model\n",
        "accuracy = accuracy_score(y_test, y_pred)\n",
        "print(f\"Accuracy: {accuracy:.2f}\")\n",
        "print(\"Classification Report:\")\n",
        "print(classification_report(y_test, y_pred))\n",
        "print(\"Confusion Matrix:\")\n",
        "print(confusion_matrix(y_test, y_pred))\n"
      ]
    },
    {
      "cell_type": "code",
      "execution_count": 5,
      "metadata": {
        "colab": {
          "base_uri": "https://localhost:8080/"
        },
        "id": "fFdnAwocVlJ4",
        "outputId": "d1f8f3db-3b30-4f14-d46e-bf95cb4dfca1"
      },
      "outputs": [
        {
          "name": "stdout",
          "output_type": "stream",
          "text": [
            "WARNING:tensorflow:From c:\\Users\\Asus\\AppData\\Local\\Programs\\Python\\Python39\\lib\\site-packages\\keras\\src\\losses.py:2976: The name tf.losses.sparse_softmax_cross_entropy is deprecated. Please use tf.compat.v1.losses.sparse_softmax_cross_entropy instead.\n",
            "\n",
            "Original shape of X_train_array: (10060, 34130)\n",
            "Reshaped X_train_array for LSTM: (10060, 1, 34130)\n",
            "WARNING:tensorflow:From c:\\Users\\Asus\\AppData\\Local\\Programs\\Python\\Python39\\lib\\site-packages\\keras\\src\\backend.py:873: The name tf.get_default_graph is deprecated. Please use tf.compat.v1.get_default_graph instead.\n",
            "\n",
            "WARNING:tensorflow:From c:\\Users\\Asus\\AppData\\Local\\Programs\\Python\\Python39\\lib\\site-packages\\keras\\src\\optimizers\\__init__.py:309: The name tf.train.Optimizer is deprecated. Please use tf.compat.v1.train.Optimizer instead.\n",
            "\n",
            "Epoch 1/20\n",
            "WARNING:tensorflow:From c:\\Users\\Asus\\AppData\\Local\\Programs\\Python\\Python39\\lib\\site-packages\\keras\\src\\utils\\tf_utils.py:492: The name tf.ragged.RaggedTensorValue is deprecated. Please use tf.compat.v1.ragged.RaggedTensorValue instead.\n",
            "\n",
            "252/252 [==============================] - 68s 173ms/step - loss: 0.1230 - val_loss: 0.0015\n",
            "Epoch 2/20\n",
            "252/252 [==============================] - 37s 147ms/step - loss: 0.0049 - val_loss: 0.0011\n",
            "Epoch 3/20\n",
            "252/252 [==============================] - 37s 148ms/step - loss: 6.1279e-04 - val_loss: 2.8869e-04\n",
            "Epoch 4/20\n",
            "252/252 [==============================] - 37s 146ms/step - loss: 7.9515e-05 - val_loss: 2.3064e-04\n",
            "Epoch 5/20\n",
            "252/252 [==============================] - 36s 144ms/step - loss: 3.9297e-05 - val_loss: 1.9548e-04\n",
            "Epoch 6/20\n",
            "252/252 [==============================] - 36s 143ms/step - loss: 1.3934e-05 - val_loss: 1.7273e-04\n",
            "Epoch 7/20\n",
            "252/252 [==============================] - 36s 142ms/step - loss: 1.0222e-05 - val_loss: 1.6591e-04\n",
            "Epoch 8/20\n",
            "252/252 [==============================] - 36s 142ms/step - loss: 5.4312e-06 - val_loss: 1.4054e-04\n",
            "Epoch 9/20\n",
            "252/252 [==============================] - 35s 140ms/step - loss: 3.4882e-06 - val_loss: 1.3882e-04\n",
            "Epoch 10/20\n",
            "252/252 [==============================] - 34s 137ms/step - loss: 2.9403e-06 - val_loss: 1.3211e-04\n",
            "Epoch 11/20\n",
            "252/252 [==============================] - 34s 137ms/step - loss: 3.5305e-06 - val_loss: 1.3549e-04\n",
            "Epoch 12/20\n",
            "252/252 [==============================] - 34s 136ms/step - loss: 4.9445e-06 - val_loss: 1.3156e-04\n",
            "Epoch 13/20\n",
            "252/252 [==============================] - 34s 136ms/step - loss: 8.0115e-06 - val_loss: 1.1772e-04\n",
            "Epoch 14/20\n",
            "252/252 [==============================] - 34s 136ms/step - loss: 7.5487e-06 - val_loss: 1.0432e-04\n",
            "Epoch 15/20\n",
            "252/252 [==============================] - 34s 136ms/step - loss: 5.4427e-06 - val_loss: 8.9305e-05\n",
            "Epoch 16/20\n",
            "252/252 [==============================] - 36s 142ms/step - loss: 6.6024e-06 - val_loss: 8.5492e-05\n",
            "Epoch 17/20\n",
            "252/252 [==============================] - 35s 140ms/step - loss: 4.9001e-06 - val_loss: 8.6280e-05\n",
            "Epoch 18/20\n",
            "252/252 [==============================] - 35s 140ms/step - loss: 3.9744e-06 - val_loss: 6.7409e-05\n",
            "Epoch 19/20\n",
            "252/252 [==============================] - 35s 140ms/step - loss: 2.7516e-06 - val_loss: 7.4247e-05\n",
            "Epoch 20/20\n",
            "252/252 [==============================] - 35s 140ms/step - loss: 1.5151e-06 - val_loss: 6.0905e-05\n"
          ]
        },
        {
          "data": {
            "text/plain": [
              "<keras.src.callbacks.History at 0x1ee6c8a5730>"
            ]
          },
          "execution_count": 5,
          "metadata": {},
          "output_type": "execute_result"
        }
      ],
      "source": [
        "from tensorflow.keras.models import Sequential\n",
        "from tensorflow.keras.layers import LSTM, Dense\n",
        "\n",
        "# Define the LSTM model\n",
        "def create_lstm_model(input_shape):\n",
        "    model = Sequential()\n",
        "    model.add(LSTM(64, return_sequences=True, input_shape=input_shape))\n",
        "    model.add(LSTM(64))\n",
        "    model.add(Dense(32, activation='relu'))\n",
        "    model.add(Dense(3))  # Predicting x, y, z coordinates\n",
        "    model.compile(optimizer='adam', loss='mse')\n",
        "    return model\n",
        "\n",
        "# Convert X_train to a NumPy array\n",
        "X_train_array = X_train.values\n",
        "X_train_array = X_train_array.astype('float32')\n",
        "y_train = y_train.astype('float32')\n",
        "X_train_array = np.nan_to_num(X_train_array)\n",
        "\n",
        "# Check the shape of the NumPy array\n",
        "print(\"Original shape of X_train_array:\", X_train_array.shape)\n",
        "\n",
        "# Reshape X_train_array if necessary\n",
        "# Assuming that we want to use a single time step (i.e., reshape to (samples, 1, features))\n",
        "if len(X_train_array.shape) == 2:\n",
        "    X_train_array = X_train_array.reshape((X_train_array.shape[0], 1, X_train_array.shape[1]))\n",
        "\n",
        "print(\"Reshaped X_train_array for LSTM:\", X_train_array.shape)\n",
        "\n",
        "# Define the input shape for the LSTM\n",
        "input_shape = (X_train_array.shape[1], X_train_array.shape[2])\n",
        "\n",
        "# Create and train the LSTM model\n",
        "lstm_model = create_lstm_model(input_shape)\n",
        "lstm_model.fit(X_train_array, y_train, epochs=20, batch_size=32, validation_split=0.2)\n"
      ]
    },
    {
      "cell_type": "code",
      "execution_count": 9,
      "metadata": {},
      "outputs": [
        {
          "name": "stdout",
          "output_type": "stream",
          "text": [
            "135/135 [==============================] - 20s 24ms/step\n",
            "High collision risk detected, but no immediate collision predicted.\n"
          ]
        }
      ],
      "source": [
        "# Ensure X_test_array is correctly defined as mentioned before\n",
        "X_test_array = X_test.values\n",
        "\n",
        "# Convert to float32 to ensure compatibility with TensorFlow\n",
        "X_test_array = X_test_array.astype('float32')\n",
        "\n",
        "# Reshape X_test_array to have shape (samples, timesteps, features)\n",
        "# Assuming timesteps = 1 for a simple LSTM model\n",
        "X_test_array = X_test_array.reshape((X_test_array.shape[0], 1, X_test_array.shape[1]))\n",
        "\n",
        "# Check for NaN or infinite values and handle them\n",
        "if np.any(np.isnan(X_test_array)) or np.any(np.isinf(X_test_array)):\n",
        "    X_test_array = np.nan_to_num(X_test_array)\n",
        "\n",
        "# Now, use X_test_array for prediction\n",
        "if (collision_risk == 1).any():\n",
        "    predicted_trajectory = lstm_model.predict(X_test_array)\n",
        "    \n",
        "    # Analyze the predicted trajectory for potential collisions\n",
        "    potential_collision = analyze_trajectory(predicted_trajectory)\n",
        "    \n",
        "    if potential_collision:\n",
        "        alert_operator(\"High collision risk detected! Suggesting orbit adjustment.\")\n",
        "    else:\n",
        "        alert_operator(\"High collision risk detected, but no immediate collision predicted.\")\n",
        "else:\n",
        "    print(\"Low collision risk. No immediate action required.\")\n"
      ]
    }
  ],
  "metadata": {
    "colab": {
      "provenance": []
    },
    "kernelspec": {
      "display_name": "Python 3",
      "name": "python3"
    },
    "language_info": {
      "codemirror_mode": {
        "name": "ipython",
        "version": 3
      },
      "file_extension": ".py",
      "mimetype": "text/x-python",
      "name": "python",
      "nbconvert_exporter": "python",
      "pygments_lexer": "ipython3",
      "version": "3.9.7"
    }
  },
  "nbformat": 4,
  "nbformat_minor": 0
}
